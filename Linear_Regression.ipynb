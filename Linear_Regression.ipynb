{
  "nbformat": 4,
  "nbformat_minor": 0,
  "metadata": {
    "colab": {
      "name": "Linear_Regression.ipynb",
      "provenance": [],
      "collapsed_sections": []
    },
    "kernelspec": {
      "name": "python3",
      "display_name": "Python 3"
    },
    "language_info": {
      "name": "python"
    }
  },
  "cells": [
    {
      "cell_type": "code",
      "metadata": {
        "colab": {
          "base_uri": "https://localhost:8080/"
        },
        "id": "UHm9xJqTNUca",
        "outputId": "8fe6b7b9-5576-4086-dd04-08067d1af2b2"
      },
      "source": [
        "pip install quandl"
      ],
      "execution_count": 2,
      "outputs": [
        {
          "output_type": "stream",
          "name": "stdout",
          "text": [
            "Collecting quandl\n",
            "  Downloading Quandl-3.6.1-py2.py3-none-any.whl (26 kB)\n",
            "Requirement already satisfied: python-dateutil in /usr/local/lib/python3.7/dist-packages (from quandl) (2.8.2)\n",
            "Requirement already satisfied: pandas>=0.14 in /usr/local/lib/python3.7/dist-packages (from quandl) (1.1.5)\n",
            "Collecting inflection>=0.3.1\n",
            "  Downloading inflection-0.5.1-py2.py3-none-any.whl (9.5 kB)\n",
            "Requirement already satisfied: requests>=2.7.0 in /usr/local/lib/python3.7/dist-packages (from quandl) (2.23.0)\n",
            "Requirement already satisfied: more-itertools in /usr/local/lib/python3.7/dist-packages (from quandl) (8.10.0)\n",
            "Requirement already satisfied: six in /usr/local/lib/python3.7/dist-packages (from quandl) (1.15.0)\n",
            "Requirement already satisfied: numpy>=1.8 in /usr/local/lib/python3.7/dist-packages (from quandl) (1.19.5)\n",
            "Requirement already satisfied: pytz>=2017.2 in /usr/local/lib/python3.7/dist-packages (from pandas>=0.14->quandl) (2018.9)\n",
            "Requirement already satisfied: chardet<4,>=3.0.2 in /usr/local/lib/python3.7/dist-packages (from requests>=2.7.0->quandl) (3.0.4)\n",
            "Requirement already satisfied: idna<3,>=2.5 in /usr/local/lib/python3.7/dist-packages (from requests>=2.7.0->quandl) (2.10)\n",
            "Requirement already satisfied: urllib3!=1.25.0,!=1.25.1,<1.26,>=1.21.1 in /usr/local/lib/python3.7/dist-packages (from requests>=2.7.0->quandl) (1.24.3)\n",
            "Requirement already satisfied: certifi>=2017.4.17 in /usr/local/lib/python3.7/dist-packages (from requests>=2.7.0->quandl) (2021.5.30)\n",
            "Installing collected packages: inflection, quandl\n",
            "Successfully installed inflection-0.5.1 quandl-3.6.1\n"
          ]
        }
      ]
    },
    {
      "cell_type": "code",
      "metadata": {
        "id": "XuMYinIaObaA"
      },
      "source": [
        "import pandas as pd \n",
        "import matplotlib.pyplot as plt \n",
        "import quandl \n",
        "from sklearn.linear_model import LinearRegression"
      ],
      "execution_count": 3,
      "outputs": []
    },
    {
      "cell_type": "code",
      "metadata": {
        "colab": {
          "base_uri": "https://localhost:8080/"
        },
        "id": "RK84s0a7Ogco",
        "outputId": "f007c00f-a4f7-49ce-dd08-6625d4419b2b"
      },
      "source": [
        "quandl.ApiConfig.api_key = ''\n",
        "stock_data = quandl.get('NSE/TCS', start_date='2018-12-01', end_date='2018-12-31')\n",
        "\n",
        "print(stock_data)"
      ],
      "execution_count": 4,
      "outputs": [
        {
          "output_type": "stream",
          "name": "stdout",
          "text": [
            "               Open     High  ...  Total Trade Quantity  Turnover (Lacs)\n",
            "Date                          ...                                       \n",
            "2018-12-03  1984.00  1990.00  ...             1610576.0         31868.00\n",
            "2018-12-04  1983.00  2019.40  ...             3270615.0         65568.23\n",
            "2018-12-05  2006.00  2018.00  ...             2501539.0         50131.23\n",
            "2018-12-06  1998.00  2017.00  ...             2321216.0         46373.71\n",
            "2018-12-07  1985.05  2003.90  ...             1680420.0         33463.26\n",
            "2018-12-10  1975.00  2011.00  ...             2010786.0         39990.73\n",
            "2018-12-11  1970.00  2010.00  ...             2942014.0         58636.26\n",
            "2018-12-12  2001.10  2022.00  ...             2219993.0         44663.42\n",
            "2018-12-13  2024.00  2029.70  ...             3748429.0         74802.38\n",
            "2018-12-14  1983.00  1998.95  ...             2473761.0         49094.42\n",
            "2018-12-17  1999.00  2004.90  ...             1227921.0         24482.95\n",
            "2018-12-18  1991.90  2002.00  ...             1768742.0         35137.11\n",
            "2018-12-19  1984.80  1984.80  ...             2498833.0         49198.05\n",
            "2018-12-20  1953.80  1974.90  ...             1940277.0         37945.10\n",
            "2018-12-21  1948.00  1950.00  ...             3729956.0         71360.52\n",
            "2018-12-24  1905.80  1938.90  ...             1864116.0         35878.57\n",
            "2018-12-26  1921.80  1921.80  ...             2446614.0         46112.98\n",
            "2018-12-27  1909.00  1941.70  ...             4968201.0         95411.46\n",
            "2018-12-28  1915.00  1920.00  ...             2239130.0         42708.38\n",
            "2018-12-31  1908.00  1909.00  ...             1879740.0         35647.72\n",
            "\n",
            "[20 rows x 7 columns]\n"
          ]
        }
      ]
    },
    {
      "cell_type": "code",
      "metadata": {
        "id": "tTJ_ZhajOkAx"
      },
      "source": [
        "dataset = pd.DataFrame(stock_data)"
      ],
      "execution_count": 5,
      "outputs": []
    },
    {
      "cell_type": "code",
      "metadata": {
        "id": "vgZAKnRsOpsT"
      },
      "source": [
        "dataset.head()\n",
        "\n",
        "dataset.to_csv('TCS.csv')"
      ],
      "execution_count": 6,
      "outputs": []
    },
    {
      "cell_type": "code",
      "metadata": {
        "id": "23YbgIQ1OsDL"
      },
      "source": [
        "data = pd.read_csv('TCS.csv')"
      ],
      "execution_count": 7,
      "outputs": []
    },
    {
      "cell_type": "code",
      "metadata": {
        "colab": {
          "base_uri": "https://localhost:8080/",
          "height": 203
        },
        "id": "1dAuBjIgOtTG",
        "outputId": "5a0e50cf-947f-40bd-b4d4-e33a6564809c"
      },
      "source": [
        "data.head()"
      ],
      "execution_count": 8,
      "outputs": [
        {
          "output_type": "execute_result",
          "data": {
            "text/html": [
              "<div>\n",
              "<style scoped>\n",
              "    .dataframe tbody tr th:only-of-type {\n",
              "        vertical-align: middle;\n",
              "    }\n",
              "\n",
              "    .dataframe tbody tr th {\n",
              "        vertical-align: top;\n",
              "    }\n",
              "\n",
              "    .dataframe thead th {\n",
              "        text-align: right;\n",
              "    }\n",
              "</style>\n",
              "<table border=\"1\" class=\"dataframe\">\n",
              "  <thead>\n",
              "    <tr style=\"text-align: right;\">\n",
              "      <th></th>\n",
              "      <th>Date</th>\n",
              "      <th>Open</th>\n",
              "      <th>High</th>\n",
              "      <th>Low</th>\n",
              "      <th>Last</th>\n",
              "      <th>Close</th>\n",
              "      <th>Total Trade Quantity</th>\n",
              "      <th>Turnover (Lacs)</th>\n",
              "    </tr>\n",
              "  </thead>\n",
              "  <tbody>\n",
              "    <tr>\n",
              "      <th>0</th>\n",
              "      <td>2018-12-03</td>\n",
              "      <td>1984.00</td>\n",
              "      <td>1990.0</td>\n",
              "      <td>1968.3</td>\n",
              "      <td>1984.00</td>\n",
              "      <td>1982.40</td>\n",
              "      <td>1610576.0</td>\n",
              "      <td>31868.00</td>\n",
              "    </tr>\n",
              "    <tr>\n",
              "      <th>1</th>\n",
              "      <td>2018-12-04</td>\n",
              "      <td>1983.00</td>\n",
              "      <td>2019.4</td>\n",
              "      <td>1971.0</td>\n",
              "      <td>2009.85</td>\n",
              "      <td>2010.85</td>\n",
              "      <td>3270615.0</td>\n",
              "      <td>65568.23</td>\n",
              "    </tr>\n",
              "    <tr>\n",
              "      <th>2</th>\n",
              "      <td>2018-12-05</td>\n",
              "      <td>2006.00</td>\n",
              "      <td>2018.0</td>\n",
              "      <td>1985.0</td>\n",
              "      <td>2003.90</td>\n",
              "      <td>2006.75</td>\n",
              "      <td>2501539.0</td>\n",
              "      <td>50131.23</td>\n",
              "    </tr>\n",
              "    <tr>\n",
              "      <th>3</th>\n",
              "      <td>2018-12-06</td>\n",
              "      <td>1998.00</td>\n",
              "      <td>2017.0</td>\n",
              "      <td>1979.6</td>\n",
              "      <td>1990.00</td>\n",
              "      <td>1992.70</td>\n",
              "      <td>2321216.0</td>\n",
              "      <td>46373.71</td>\n",
              "    </tr>\n",
              "    <tr>\n",
              "      <th>4</th>\n",
              "      <td>2018-12-07</td>\n",
              "      <td>1985.05</td>\n",
              "      <td>2003.9</td>\n",
              "      <td>1973.0</td>\n",
              "      <td>1999.85</td>\n",
              "      <td>1995.20</td>\n",
              "      <td>1680420.0</td>\n",
              "      <td>33463.26</td>\n",
              "    </tr>\n",
              "  </tbody>\n",
              "</table>\n",
              "</div>"
            ],
            "text/plain": [
              "         Date     Open    High  ...    Close  Total Trade Quantity  Turnover (Lacs)\n",
              "0  2018-12-03  1984.00  1990.0  ...  1982.40             1610576.0         31868.00\n",
              "1  2018-12-04  1983.00  2019.4  ...  2010.85             3270615.0         65568.23\n",
              "2  2018-12-05  2006.00  2018.0  ...  2006.75             2501539.0         50131.23\n",
              "3  2018-12-06  1998.00  2017.0  ...  1992.70             2321216.0         46373.71\n",
              "4  2018-12-07  1985.05  2003.9  ...  1995.20             1680420.0         33463.26\n",
              "\n",
              "[5 rows x 8 columns]"
            ]
          },
          "metadata": {},
          "execution_count": 8
        }
      ]
    },
    {
      "cell_type": "code",
      "metadata": {
        "colab": {
          "base_uri": "https://localhost:8080/"
        },
        "id": "mdxa2RzEOwla",
        "outputId": "5a8c8341-e94c-4a6b-a570-db4c867d6d4d"
      },
      "source": [
        "data.isnull().sum()"
      ],
      "execution_count": 9,
      "outputs": [
        {
          "output_type": "execute_result",
          "data": {
            "text/plain": [
              "Date                    0\n",
              "Open                    0\n",
              "High                    0\n",
              "Low                     0\n",
              "Last                    0\n",
              "Close                   0\n",
              "Total Trade Quantity    0\n",
              "Turnover (Lacs)         0\n",
              "dtype: int64"
            ]
          },
          "metadata": {},
          "execution_count": 9
        }
      ]
    },
    {
      "cell_type": "code",
      "metadata": {
        "colab": {
          "base_uri": "https://localhost:8080/",
          "height": 487
        },
        "id": "lX3EmVTOOz7U",
        "outputId": "6eab0721-908a-4e1e-e808-6b2575d72fa9"
      },
      "source": [
        "import seaborn as sns\n",
        "plt.figure(1 , figsize = (17 , 8))\n",
        "cor = sns.heatmap(data.corr(), annot = True)"
      ],
      "execution_count": 10,
      "outputs": [
        {
          "output_type": "display_data",
          "data": {
            "image/png": "[encoded data removed]",
            "text/plain": [
              "<Figure size 1224x576 with 2 Axes>"
            ]
          },
          "metadata": {
            "needs_background": "light"
          }
        }
      ]
    },
    {
      "cell_type": "code",
      "metadata": {
        "id": "ThR1eh2RO3xc"
      },
      "source": [
        "x = data.loc[:,'High':'Turnover (Lacs)']\n",
        "y = data.loc[:,'Open']"
      ],
      "execution_count": 11,
      "outputs": []
    },
    {
      "cell_type": "code",
      "metadata": {
        "colab": {
          "base_uri": "https://localhost:8080/"
        },
        "id": "jPAQY1ZSO86A",
        "outputId": "bf22cd61-178a-4963-88eb-44764d979fbf"
      },
      "source": [
        "y.head()"
      ],
      "execution_count": 12,
      "outputs": [
        {
          "output_type": "execute_result",
          "data": {
            "text/plain": [
              "0    1984.00\n",
              "1    1983.00\n",
              "2    2006.00\n",
              "3    1998.00\n",
              "4    1985.05\n",
              "Name: Open, dtype: float64"
            ]
          },
          "metadata": {},
          "execution_count": 12
        }
      ]
    },
    {
      "cell_type": "code",
      "metadata": {
        "id": "sHDcNLwkO_uz"
      },
      "source": [
        "from sklearn.model_selection import train_test_split\n",
        "x_train,x_test,y_train,y_test = train_test_split(x,y,test_size = 0.1,random_state = 0)"
      ],
      "execution_count": 13,
      "outputs": []
    },
    {
      "cell_type": "code",
      "metadata": {
        "id": "4LtQ-y6oPDGs"
      },
      "source": [
        "LR = LinearRegression()"
      ],
      "execution_count": 14,
      "outputs": []
    },
    {
      "cell_type": "code",
      "metadata": {
        "colab": {
          "base_uri": "https://localhost:8080/"
        },
        "id": "_l1Rsh_gPF46",
        "outputId": "4b0d0f1b-5883-4250-cfce-2b09b49c2af1"
      },
      "source": [
        "\n",
        "LR.fit(x_train,y_train)"
      ],
      "execution_count": 15,
      "outputs": [
        {
          "output_type": "execute_result",
          "data": {
            "text/plain": [
              "LinearRegression(copy_X=True, fit_intercept=True, n_jobs=None, normalize=False)"
            ]
          },
          "metadata": {},
          "execution_count": 15
        }
      ]
    },
    {
      "cell_type": "code",
      "metadata": {
        "colab": {
          "base_uri": "https://localhost:8080/"
        },
        "id": "dOlEs31vPIUj",
        "outputId": "2d40ff72-b941-431f-a4a4-a84cf574d4a5"
      },
      "source": [
        "LR.score(x_test,y_test)"
      ],
      "execution_count": 16,
      "outputs": [
        {
          "output_type": "execute_result",
          "data": {
            "text/plain": [
              "0.9997647484047153"
            ]
          },
          "metadata": {},
          "execution_count": 16
        }
      ]
    },
    {
      "cell_type": "code",
      "metadata": {
        "id": "r_ZK1JYbPKqg"
      },
      "source": [
        "Test_data = [[2017.0 ,1979.6 ,1990.00 ,1992.70 ,2321216.0 ,46373.71]]\n",
        "prediction = LR.predict(Test_data)"
      ],
      "execution_count": 17,
      "outputs": []
    },
    {
      "cell_type": "code",
      "metadata": {
        "colab": {
          "base_uri": "https://localhost:8080/"
        },
        "id": "dAes_FdaPMfT",
        "outputId": "ffee7e1d-b921-4436-fb1d-70e1ca042b80"
      },
      "source": [
        "\n",
        "print(prediction)"
      ],
      "execution_count": 18,
      "outputs": [
        {
          "output_type": "stream",
          "name": "stdout",
          "text": [
            "[2001.75159573]\n"
          ]
        }
      ]
    }
  ]
}